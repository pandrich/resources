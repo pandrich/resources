{
 "cells": [
  {
   "cell_type": "code",
   "execution_count": 83,
   "metadata": {},
   "outputs": [],
   "source": [
    "import numpy as np\n",
    "import scipy.stats as stats\n",
    "\n",
    "import pymc3 as pm\n",
    "from icecream import ic\n",
    "ic.configureOutput(includeContext=True)\n",
    "\n",
    "import matplotlib.pyplot as plt\n",
    "import arviz as az"
   ]
  },
  {
   "cell_type": "code",
   "execution_count": 2,
   "metadata": {},
   "outputs": [
    {
     "data": {
      "text/plain": [
       "0.16406250000000006"
      ]
     },
     "execution_count": 2,
     "metadata": {},
     "output_type": "execute_result"
    }
   ],
   "source": [
    "stats.binom.pmf(6, n=9, p=0.5)"
   ]
  },
  {
   "cell_type": "markdown",
   "metadata": {},
   "source": [
    "### Grid approximation"
   ]
  },
  {
   "cell_type": "code",
   "execution_count": 116,
   "metadata": {},
   "outputs": [],
   "source": [
    "def posterior_grid_approximation(grid_points=20, successes=3, tosses=3):\n",
    "    # Define grid\n",
    "    p_grid = np.linspace(0, 1, grid_points)\n",
    "    #Define prior\n",
    "    prior = np.repeat(1, grid_points)\n",
    "#     prior = (p_grid > 0.5).astype(int)\n",
    "    # Compute likelihood at grid points\n",
    "    likelihood = stats.binom.pmf(successes, n=tosses, p=p_grid)\n",
    "    # Compute unstandardized likelihood\n",
    "    unstd_posterior = likelihood * prior\n",
    "    # Standardize posterior\n",
    "    posterior = unstd_posterior / unstd_posterior.sum()\n",
    "    \n",
    "    return p_grid, posterior"
   ]
  },
  {
   "cell_type": "code",
   "execution_count": 109,
   "metadata": {},
   "outputs": [
    {
     "data": {
      "text/plain": [
       "Text(0, 0.5, 'Posterior probability')"
      ]
     },
     "execution_count": 109,
     "metadata": {},
     "output_type": "execute_result"
    },
    {
     "data": {
      "image/png": "[encoded data removed]",
      "text/plain": [
       "<Figure size 432x288 with 1 Axes>"
      ]
     },
     "metadata": {
      "needs_background": "light"
     },
     "output_type": "display_data"
    }
   ],
   "source": [
    "p_grid, posterior = posterior_grid_approximation(20, 3, 3)\n",
    "plt.plot(p_grid, posterior, \"C0o-\")\n",
    "plt.xlabel(\"Probability of water\")\n",
    "plt.ylabel(\"Posterior probability\")"
   ]
  },
  {
   "cell_type": "markdown",
   "metadata": {},
   "source": [
    "### Quadratic approximation"
   ]
  },
  {
   "cell_type": "code",
   "execution_count": 17,
   "metadata": {},
   "outputs": [
    {
     "data": {
      "text/html": [
       "\n",
       "    <div>\n",
       "        <style>\n",
       "            /* Turns off some styling */\n",
       "            progress {\n",
       "                /* gets rid of default border in Firefox and Opera. */\n",
       "                border: none;\n",
       "                /* Needs to be in here for Safari polyfill so background images work as expected. */\n",
       "                background-size: auto;\n",
       "            }\n",
       "            .progress-bar-interrupted, .progress-bar-interrupted::-webkit-progress-bar {\n",
       "                background: #F44336;\n",
       "            }\n",
       "        </style>\n",
       "      <progress value='6' class='' max='6' style='width:300px; height:20px; vertical-align: middle;'></progress>\n",
       "      100.00% [6/6 00:00<00:00 logp = -1.8075, ||grad|| = 1.5]\n",
       "    </div>\n",
       "    "
      ],
      "text/plain": [
       "<IPython.core.display.HTML object>"
      ]
     },
     "metadata": {},
     "output_type": "display_data"
    },
    {
     "name": "stdout",
     "output_type": "stream",
     "text": [
      "\n"
     ]
    }
   ],
   "source": [
    "data = np.repeat((0,1), (3,6))\n",
    "with pm.Model() as quad_approx_model:\n",
    "    # prior\n",
    "    p = pm.Uniform(\"p\", 0, 1)\n",
    "    # likelihood\n",
    "    w = pm.Binomial(\"w\", n=len(data), p=p, observed=data.sum())\n",
    "    # find posterior mode and std\n",
    "    mean_q = pm.find_MAP()\n",
    "    # find curvature at the mode of the posterior\n",
    "    std_q = ((1 / pm.find_hessian(mean_q, vars=[p])) ** 0.5)[0]"
   ]
  },
  {
   "cell_type": "code",
   "execution_count": 23,
   "metadata": {},
   "outputs": [
    {
     "data": {
      "text/plain": [
       "array(0.66666667)"
      ]
     },
     "execution_count": 23,
     "metadata": {},
     "output_type": "execute_result"
    }
   ],
   "source": [
    "mean_q[\"p\"]"
   ]
  },
  {
   "cell_type": "code",
   "execution_count": 25,
   "metadata": {},
   "outputs": [
    {
     "name": "stdout",
     "output_type": "stream",
     "text": [
      "Quadratic approximation returns a Gaussian distribution for the posterior with:\n",
      "\n",
      "Mean 0.67\n",
      "Standard deviation 0.16\n"
     ]
    }
   ],
   "source": [
    "## Summary of quadratic approximation\n",
    "\n",
    "print(\"Quadratic approximation returns a Gaussian distribution for the posterior with:\\n\\n\"\n",
    "      f\"Mean {mean_q['p']:.2}\\nStandard deviation {std_q[0]:.2}\")"
   ]
  },
  {
   "cell_type": "code",
   "execution_count": 32,
   "metadata": {},
   "outputs": [
    {
     "name": "stdout",
     "output_type": "stream",
     "text": [
      "Quantiles for 89% interval are:\n",
      "\n",
      "0.42, 0.92\n"
     ]
    }
   ],
   "source": [
    "norm_dist = stats.norm(loc=mean_q[\"p\"], scale=std_q[0])\n",
    "# Define range of probability of interest\n",
    "prob_range = 0.89\n",
    "# Calculate quantiles associated to probability range\n",
    "# ppf calculates the positions where the distribution acquires a certain cumulative probability\n",
    "z = norm_dist.ppf([(1 - prob_range)/2, (1 + prob_range)/2]) \n",
    "print(f\"Quantiles for 89% interval are:\\n\\n{z[0]:.2}, {z[1]:.2}\")"
   ]
  },
  {
   "cell_type": "markdown",
   "metadata": {
    "tags": []
   },
   "source": [
    "### MCMC"
   ]
  },
  {
   "cell_type": "code",
   "execution_count": 75,
   "metadata": {},
   "outputs": [],
   "source": [
    "def run_mcmc(n_mcmc_samples, success, tosses):\n",
    "    post_samples = np.zeros(n_mcmc_samples)\n",
    "    post_samples[0] = 0.5\n",
    "    like_samples = np.zeros_like(post_samples)\n",
    "    like_samples[0] = stats.binom.pmf(success, n=tosses, p=post_samples[0])\n",
    "    for i in range(1, n_mcmc_samples):\n",
    "        p_test = np.random.normal(loc=post_samples[i-1], scale=0.1, size=1)\n",
    "        \n",
    "        if p_test < 0:\n",
    "            p_test = -p_test\n",
    "        elif p_test > 1:\n",
    "            p_test = 2 - p_test\n",
    "        \n",
    "        like_test = stats.binom.pmf(success, n=tosses, p=p_test)\n",
    "\n",
    "        if np.random.uniform(0, 1, 1) < like_test/like_samples[i-1]:\n",
    "            post_samples[i] = p_test\n",
    "            like_samples[i] = like_test\n",
    "        else:\n",
    "            post_samples[i] = post_samples[i-1]\n",
    "            like_samples[i] = like_samples[i-1]\n",
    "        \n",
    "    return like_samples, post_samples"
   ]
  },
  {
   "cell_type": "code",
   "execution_count": 91,
   "metadata": {},
   "outputs": [],
   "source": [
    "successes = 6\n",
    "tosses = 9\n",
    "likelihood, posterior = run_mcmc(1000, successes, tosses)"
   ]
  },
  {
   "cell_type": "code",
   "execution_count": 92,
   "metadata": {},
   "outputs": [
    {
     "data": {
      "image/png": "[encoded data removed]",
      "text/plain": [
       "<Figure size 432x288 with 1 Axes>"
      ]
     },
     "metadata": {
      "needs_background": "light"
     },
     "output_type": "display_data"
    }
   ],
   "source": [
    "plt.hist(\n",
    "    posterior,\n",
    "    bins=40,\n",
    "    density=True\n",
    ");"
   ]
  },
  {
   "cell_type": "code",
   "execution_count": 93,
   "metadata": {},
   "outputs": [
    {
     "data": {
      "text/plain": [
       "<matplotlib.legend.Legend at 0x20a6f12d910>"
      ]
     },
     "execution_count": 93,
     "metadata": {},
     "output_type": "execute_result"
    },
    {
     "data": {
      "image/png": "[encoded data removed]",
      "text/plain": [
       "<Figure size 432x288 with 1 Axes>"
      ]
     },
     "metadata": {
      "needs_background": "light"
     },
     "output_type": "display_data"
    }
   ],
   "source": [
    "p_array = np.linspace(0, 1, 100)\n",
    "az.plot_kde(posterior, \n",
    "            label=\"Metropolis approximation\", \n",
    "            plot_kwargs={\"color\":\"C1\",\n",
    "                         \"linewidth\":3\n",
    "                        }\n",
    "           )\n",
    "plt.plot(p_array, \n",
    "         stats.beta.pdf(p_array, \n",
    "                        successes + 1,\n",
    "                        tosses - successes + 1),\n",
    "         \"C0--\",\n",
    "         linewidth=3,\n",
    "         label=\"True distribution\",\n",
    "        )\n",
    "plt.legend()"
   ]
  },
  {
   "cell_type": "markdown",
   "metadata": {},
   "source": [
    "### Exercises"
   ]
  },
  {
   "cell_type": "code",
   "execution_count": 115,
   "metadata": {},
   "outputs": [
    {
     "name": "stdout",
     "output_type": "stream",
     "text": [
      "[0.23076923 0.76923077]\n"
     ]
    }
   ],
   "source": [
    "# prior\n",
    "prior = np.array([0.5, 0.5])\n",
    "# likelihood\n",
    "like = np.array([0.3, 1])\n",
    "# posterior\n",
    "unstd_posterior = like * prior\n",
    "posterior = unstd_posterior/unstd_posterior.sum()\n",
    "print(posterior)"
   ]
  }
 ],
 "metadata": {
  "kernelspec": {
   "display_name": "Python (bayes)",
   "language": "python",
   "name": "bayes"
  },
  "language_info": {
   "codemirror_mode": {
    "name": "ipython",
    "version": 3
   },
   "file_extension": ".py",
   "mimetype": "text/x-python",
   "name": "python",
   "nbconvert_exporter": "python",
   "pygments_lexer": "ipython3",
   "version": "3.8.8"
  }
 },
 "nbformat": 4,
 "nbformat_minor": 4
}
