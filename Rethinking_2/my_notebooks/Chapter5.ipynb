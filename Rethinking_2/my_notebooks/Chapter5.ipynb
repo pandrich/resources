{
 "cells": [
  {
   "cell_type": "code",
   "execution_count": 169,
   "metadata": {},
   "outputs": [],
   "source": [
    "# Data handling \n",
    "import numpy as np\n",
    "import pandas as pd\n",
    "\n",
    "# Viz\n",
    "import arviz as az\n",
    "import matplotlib.pyplot as plt\n",
    "from causalgraphicalmodels import CausalGraphicalModel\n",
    "import daft\n",
    "\n",
    "# modeling\n",
    "import pymc3 as pm\n",
    "from scipy import stats\n",
    "from theano import shared"
   ]
  },
  {
   "cell_type": "markdown",
   "metadata": {},
   "source": [
    "### Spurious association"
   ]
  },
  {
   "cell_type": "code",
   "execution_count": 5,
   "metadata": {},
   "outputs": [],
   "source": [
    "df = pd.read_csv(\"../Data/WaffleDivorce.csv\", sep=\";\")"
   ]
  },
  {
   "cell_type": "code",
   "execution_count": 6,
   "metadata": {},
   "outputs": [
    {
     "data": {
      "text/html": [
       "<div>\n",
       "<style scoped>\n",
       "    .dataframe tbody tr th:only-of-type {\n",
       "        vertical-align: middle;\n",
       "    }\n",
       "\n",
       "    .dataframe tbody tr th {\n",
       "        vertical-align: top;\n",
       "    }\n",
       "\n",
       "    .dataframe thead th {\n",
       "        text-align: right;\n",
       "    }\n",
       "</style>\n",
       "<table border=\"1\" class=\"dataframe\">\n",
       "  <thead>\n",
       "    <tr style=\"text-align: right;\">\n",
       "      <th></th>\n",
       "      <th>Location</th>\n",
       "      <th>Loc</th>\n",
       "      <th>Population</th>\n",
       "      <th>MedianAgeMarriage</th>\n",
       "      <th>Marriage</th>\n",
       "      <th>Marriage SE</th>\n",
       "      <th>Divorce</th>\n",
       "      <th>Divorce SE</th>\n",
       "      <th>WaffleHouses</th>\n",
       "      <th>South</th>\n",
       "      <th>Slaves1860</th>\n",
       "      <th>Population1860</th>\n",
       "      <th>PropSlaves1860</th>\n",
       "    </tr>\n",
       "  </thead>\n",
       "  <tbody>\n",
       "    <tr>\n",
       "      <th>0</th>\n",
       "      <td>Alabama</td>\n",
       "      <td>AL</td>\n",
       "      <td>4.78</td>\n",
       "      <td>25.3</td>\n",
       "      <td>20.2</td>\n",
       "      <td>1.27</td>\n",
       "      <td>12.7</td>\n",
       "      <td>0.79</td>\n",
       "      <td>128</td>\n",
       "      <td>1</td>\n",
       "      <td>435080</td>\n",
       "      <td>964201</td>\n",
       "      <td>0.45</td>\n",
       "    </tr>\n",
       "    <tr>\n",
       "      <th>1</th>\n",
       "      <td>Alaska</td>\n",
       "      <td>AK</td>\n",
       "      <td>0.71</td>\n",
       "      <td>25.2</td>\n",
       "      <td>26.0</td>\n",
       "      <td>2.93</td>\n",
       "      <td>12.5</td>\n",
       "      <td>2.05</td>\n",
       "      <td>0</td>\n",
       "      <td>0</td>\n",
       "      <td>0</td>\n",
       "      <td>0</td>\n",
       "      <td>0.00</td>\n",
       "    </tr>\n",
       "    <tr>\n",
       "      <th>2</th>\n",
       "      <td>Arizona</td>\n",
       "      <td>AZ</td>\n",
       "      <td>6.33</td>\n",
       "      <td>25.8</td>\n",
       "      <td>20.3</td>\n",
       "      <td>0.98</td>\n",
       "      <td>10.8</td>\n",
       "      <td>0.74</td>\n",
       "      <td>18</td>\n",
       "      <td>0</td>\n",
       "      <td>0</td>\n",
       "      <td>0</td>\n",
       "      <td>0.00</td>\n",
       "    </tr>\n",
       "    <tr>\n",
       "      <th>3</th>\n",
       "      <td>Arkansas</td>\n",
       "      <td>AR</td>\n",
       "      <td>2.92</td>\n",
       "      <td>24.3</td>\n",
       "      <td>26.4</td>\n",
       "      <td>1.70</td>\n",
       "      <td>13.5</td>\n",
       "      <td>1.22</td>\n",
       "      <td>41</td>\n",
       "      <td>1</td>\n",
       "      <td>111115</td>\n",
       "      <td>435450</td>\n",
       "      <td>0.26</td>\n",
       "    </tr>\n",
       "    <tr>\n",
       "      <th>4</th>\n",
       "      <td>California</td>\n",
       "      <td>CA</td>\n",
       "      <td>37.25</td>\n",
       "      <td>26.8</td>\n",
       "      <td>19.1</td>\n",
       "      <td>0.39</td>\n",
       "      <td>8.0</td>\n",
       "      <td>0.24</td>\n",
       "      <td>0</td>\n",
       "      <td>0</td>\n",
       "      <td>0</td>\n",
       "      <td>379994</td>\n",
       "      <td>0.00</td>\n",
       "    </tr>\n",
       "  </tbody>\n",
       "</table>\n",
       "</div>"
      ],
      "text/plain": [
       "     Location Loc  Population  MedianAgeMarriage  Marriage  Marriage SE  \\\n",
       "0     Alabama  AL        4.78               25.3      20.2         1.27   \n",
       "1      Alaska  AK        0.71               25.2      26.0         2.93   \n",
       "2     Arizona  AZ        6.33               25.8      20.3         0.98   \n",
       "3    Arkansas  AR        2.92               24.3      26.4         1.70   \n",
       "4  California  CA       37.25               26.8      19.1         0.39   \n",
       "\n",
       "   Divorce  Divorce SE  WaffleHouses  South  Slaves1860  Population1860  \\\n",
       "0     12.7        0.79           128      1      435080          964201   \n",
       "1     12.5        2.05             0      0           0               0   \n",
       "2     10.8        0.74            18      0           0               0   \n",
       "3     13.5        1.22            41      1      111115          435450   \n",
       "4      8.0        0.24             0      0           0          379994   \n",
       "\n",
       "   PropSlaves1860  \n",
       "0            0.45  \n",
       "1            0.00  \n",
       "2            0.00  \n",
       "3            0.26  \n",
       "4            0.00  "
      ]
     },
     "execution_count": 6,
     "metadata": {},
     "output_type": "execute_result"
    }
   ],
   "source": [
    "df.head()"
   ]
  },
  {
   "cell_type": "code",
   "execution_count": 7,
   "metadata": {},
   "outputs": [],
   "source": [
    "# Standardize variables\n",
    "\n",
    "divorce_std = (df[\"Divorce\"] - df[\"Divorce\"].mean())/df[\"Divorce\"].std()\n",
    "marriage_std = (df[\"Marriage\"] - df[\"Marriage\"].mean())/df[\"Marriage\"].std()\n",
    "age_std = (df[\"MedianAgeMarriage\"] - df[\"MedianAgeMarriage\"].mean())/df[\"MedianAgeMarriage\"].std()"
   ]
  },
  {
   "cell_type": "code",
   "execution_count": 8,
   "metadata": {},
   "outputs": [],
   "source": [
    "# Develop linear age - divorce rate model\n",
    "with pm.Model() as AgeDivmodel:\n",
    "    A = pm.Data(\"A\",\n",
    "                age_std\n",
    "               )\n",
    "    \n",
    "    # Priors\n",
    "    alpha = pm.Normal(\"alpha\",\n",
    "                      mu=0,\n",
    "                      sd=0.2\n",
    "                     )\n",
    "    beta_age = pm.Normal(\"beta_age\",\n",
    "                         mu=0,\n",
    "                         sd=0.5\n",
    "                        )\n",
    "    div_mu = pm.Deterministic(\"div_mu\",\n",
    "                              var=alpha + beta_age*A\n",
    "                             )\n",
    "    div_sd = pm.Exponential(\"div_sd\",\n",
    "                            lam=1  # Here all the measurements are in standar deviation units\n",
    "                           )\n",
    "    \n",
    "    # Likelihood\n",
    "    \n",
    "    div = pm.Normal(\"div\",\n",
    "                    mu=div_mu,\n",
    "                    sd=div_sd,\n",
    "                    observed=divorce_std\n",
    "                   )"
   ]
  },
  {
   "cell_type": "code",
   "execution_count": 9,
   "metadata": {},
   "outputs": [
    {
     "name": "stderr",
     "output_type": "stream",
     "text": [
      "Auto-assigning NUTS sampler...\n",
      "Initializing NUTS using jitter+adapt_diag...\n",
      "Multiprocess sampling (4 chains in 4 jobs)\n",
      "NUTS: [div_sd, beta_age, alpha]\n"
     ]
    },
    {
     "data": {
      "text/html": [
       "\n",
       "    <div>\n",
       "        <style>\n",
       "            /* Turns off some styling */\n",
       "            progress {\n",
       "                /* gets rid of default border in Firefox and Opera. */\n",
       "                border: none;\n",
       "                /* Needs to be in here for Safari polyfill so background images work as expected. */\n",
       "                background-size: auto;\n",
       "            }\n",
       "            .progress-bar-interrupted, .progress-bar-interrupted::-webkit-progress-bar {\n",
       "                background: #F44336;\n",
       "            }\n",
       "        </style>\n",
       "      <progress value='8000' class='' max='8000' style='width:300px; height:20px; vertical-align: middle;'></progress>\n",
       "      100.00% [8000/8000 00:03<00:00 Sampling 4 chains, 0 divergences]\n",
       "    </div>\n",
       "    "
      ],
      "text/plain": [
       "<IPython.core.display.HTML object>"
      ]
     },
     "metadata": {},
     "output_type": "display_data"
    },
    {
     "name": "stderr",
     "output_type": "stream",
     "text": [
      "Sampling 4 chains for 1_000 tune and 1_000 draw iterations (4_000 + 4_000 draws total) took 14 seconds.\n",
      "C:\\Users\\andri\\anaconda3\\envs\\bayes\\lib\\site-packages\\pymc3\\sampling.py:1689: UserWarning: samples parameter is smaller than nchains times ndraws, some draws and/or chains may not be represented in the returned posterior predictive sample\n",
      "  warnings.warn(\n"
     ]
    },
    {
     "data": {
      "text/html": [
       "\n",
       "    <div>\n",
       "        <style>\n",
       "            /* Turns off some styling */\n",
       "            progress {\n",
       "                /* gets rid of default border in Firefox and Opera. */\n",
       "                border: none;\n",
       "                /* Needs to be in here for Safari polyfill so background images work as expected. */\n",
       "                background-size: auto;\n",
       "            }\n",
       "            .progress-bar-interrupted, .progress-bar-interrupted::-webkit-progress-bar {\n",
       "                background: #F44336;\n",
       "            }\n",
       "        </style>\n",
       "      <progress value='1000' class='' max='1000' style='width:300px; height:20px; vertical-align: middle;'></progress>\n",
       "      100.00% [1000/1000 00:01<00:00]\n",
       "    </div>\n",
       "    "
      ],
      "text/plain": [
       "<IPython.core.display.HTML object>"
      ]
     },
     "metadata": {},
     "output_type": "display_data"
    }
   ],
   "source": [
    "with AgeDivmodel:\n",
    "    prior_samples = pm.sample_prior_predictive(1000)\n",
    "    age_div_trace = pm.sample(1000,\n",
    "                              return_inferencedata=True\n",
    "                             )\n",
    "    post_samples = pm.sample_posterior_predictive(age_div_trace,\n",
    "                                                  1000\n",
    "                                                 )"
   ]
  },
  {
   "cell_type": "code",
   "execution_count": 12,
   "metadata": {},
   "outputs": [
    {
     "data": {
      "text/plain": [
       "dict_keys(['div_sd_log__', 'div_mu', 'div', 'alpha', 'div_sd', 'beta_age'])"
      ]
     },
     "execution_count": 12,
     "metadata": {},
     "output_type": "execute_result"
    }
   ],
   "source": [
    "prior_samples.keys()"
   ]
  },
  {
   "cell_type": "code",
   "execution_count": 21,
   "metadata": {},
   "outputs": [
    {
     "data": {
      "text/plain": [
       "Text(0, 0.5, 'Divorce rate (std)')"
      ]
     },
     "execution_count": 21,
     "metadata": {},
     "output_type": "execute_result"
    },
    {
     "data": {
      "image/png": "[encoded data removed]",
      "text/plain": [
       "<Figure size 864x360 with 1 Axes>"
      ]
     },
     "metadata": {
      "needs_background": "light"
     },
     "output_type": "display_data"
    }
   ],
   "source": [
    "# Plot prior distribution\n",
    "\n",
    "_, ax = plt.subplots(figsize=(12, 5))\n",
    "\n",
    "for i in range(20):\n",
    "    idx = np.random.randint(0, 1000, dtype=int)\n",
    "    ax.plot(age_std,\n",
    "            prior_samples[\"alpha\"][idx] + prior_samples[\"beta_age\"][idx]*age_std,\n",
    "            \"C0-\",\n",
    "            alpha=0.4\n",
    "           )\n",
    "    \n",
    "ax.set_title(\"Plausible regression lines from prior\", size=20)\n",
    "ax.set_xlabel(\"Median age at marriage (std)\", fontdict={\"fontsize\":16})\n",
    "ax.set_ylabel(\"Divorce rate (std)\", fontdict={\"fontsize\":16})\n",
    "             "
   ]
  },
  {
   "cell_type": "markdown",
   "metadata": {},
   "source": [
    "#### Investigate posterior distribution"
   ]
  },
  {
   "cell_type": "code",
   "execution_count": 22,
   "metadata": {},
   "outputs": [
    {
     "data": {
      "text/html": [
       "<div>\n",
       "<style scoped>\n",
       "    .dataframe tbody tr th:only-of-type {\n",
       "        vertical-align: middle;\n",
       "    }\n",
       "\n",
       "    .dataframe tbody tr th {\n",
       "        vertical-align: top;\n",
       "    }\n",
       "\n",
       "    .dataframe thead th {\n",
       "        text-align: right;\n",
       "    }\n",
       "</style>\n",
       "<table border=\"1\" class=\"dataframe\">\n",
       "  <thead>\n",
       "    <tr style=\"text-align: right;\">\n",
       "      <th></th>\n",
       "      <th>mean</th>\n",
       "      <th>sd</th>\n",
       "      <th>hdi_3%</th>\n",
       "      <th>hdi_97%</th>\n",
       "    </tr>\n",
       "  </thead>\n",
       "  <tbody>\n",
       "    <tr>\n",
       "      <th>alpha</th>\n",
       "      <td>0.003</td>\n",
       "      <td>0.103</td>\n",
       "      <td>-0.184</td>\n",
       "      <td>0.193</td>\n",
       "    </tr>\n",
       "    <tr>\n",
       "      <th>beta_age</th>\n",
       "      <td>-0.566</td>\n",
       "      <td>0.119</td>\n",
       "      <td>-0.794</td>\n",
       "      <td>-0.357</td>\n",
       "    </tr>\n",
       "    <tr>\n",
       "      <th>div_sd</th>\n",
       "      <td>0.824</td>\n",
       "      <td>0.088</td>\n",
       "      <td>0.661</td>\n",
       "      <td>0.983</td>\n",
       "    </tr>\n",
       "  </tbody>\n",
       "</table>\n",
       "</div>"
      ],
      "text/plain": [
       "           mean     sd  hdi_3%  hdi_97%\n",
       "alpha     0.003  0.103  -0.184    0.193\n",
       "beta_age -0.566  0.119  -0.794   -0.357\n",
       "div_sd    0.824  0.088   0.661    0.983"
      ]
     },
     "execution_count": 22,
     "metadata": {},
     "output_type": "execute_result"
    }
   ],
   "source": [
    "az.summary(age_div_trace, var_names=[\"~div_mu\"], kind=\"stats\", round_to=3)"
   ]
  },
  {
   "cell_type": "code",
   "execution_count": 42,
   "metadata": {},
   "outputs": [],
   "source": [
    "alpha_post = age_div_trace.posterior.stack(draws=(\"chain\", \"draw\")).data_vars[\"alpha\"]\n",
    "beta_age_post = age_div_trace.posterior.stack(draws=(\"chain\", \"draw\")).data_vars[\"beta_age\"]\n",
    "div_sd_post = age_div_trace.posterior.stack(draws=(\"chain\", \"draw\")).data_vars[\"div_sd\"]\n",
    "div_mu_post = age_div_trace.posterior.stack(draws=(\"chain\", \"draw\")).data_vars[\"div_mu\"]"
   ]
  },
  {
   "cell_type": "code",
   "execution_count": 75,
   "metadata": {},
   "outputs": [
    {
     "data": {
      "text/plain": [
       "(4000, 50)"
      ]
     },
     "execution_count": 75,
     "metadata": {},
     "output_type": "execute_result"
    }
   ],
   "source": [
    "div_mu_post.T.shape"
   ]
  },
  {
   "cell_type": "code",
   "execution_count": 86,
   "metadata": {},
   "outputs": [
    {
     "name": "stderr",
     "output_type": "stream",
     "text": [
      "C:\\Users\\andri\\anaconda3\\envs\\bayes\\lib\\site-packages\\arviz\\stats\\stats.py:456: FutureWarning: hdi currently interprets 2d data as (draw, shape) but this will change in a future release to (chain, draw) for coherence with other functions\n",
      "  warnings.warn(\n"
     ]
    },
    {
     "data": {
      "text/plain": [
       "<AxesSubplot:>"
      ]
     },
     "execution_count": 86,
     "metadata": {},
     "output_type": "execute_result"
    },
    {
     "data": {
      "image/png": "[encoded data removed]",
      "text/plain": [
       "<Figure size 864x360 with 1 Axes>"
      ]
     },
     "metadata": {
      "needs_background": "light"
     },
     "output_type": "display_data"
    }
   ],
   "source": [
    "_, ax = plt.subplots(figsize=(12, 5))\n",
    "\n",
    "ax.plot(age_std,\n",
    "        divorce_std,\n",
    "        \"C0.\",\n",
    "        label=\"Observed divorce rate\"\n",
    "       )\n",
    "ax.plot(np.sort(age_std),\n",
    "        alpha_post.mean().values + beta_age_post.mean().values*np.sort(age_std),\n",
    "        \"k--\",\n",
    "        linewidth=2,\n",
    "        label=\"Mean expected rate\"\n",
    "       )\n",
    "az.plot_hdi(\n",
    "    age_std,\n",
    "    div_mu_post.T,\n",
    "    hdi_prob=0.69,\n",
    "    ax=ax\n",
    ")"
   ]
  },
  {
   "cell_type": "markdown",
   "metadata": {},
   "source": [
    "#### Multiple regression"
   ]
  },
  {
   "cell_type": "code",
   "execution_count": 87,
   "metadata": {},
   "outputs": [],
   "source": [
    "with pm.Model() as multi_model:\n",
    "    # Priors\n",
    "    alpha = pm.Normal(\"alpha\",\n",
    "                      mu=0,\n",
    "                      sd=0.2\n",
    "                     )\n",
    "    beta_m = pm.Normal(\"beta_m\",\n",
    "                       mu=0,\n",
    "                       sd=0.5\n",
    "                      )\n",
    "    beta_a = pm.Normal(\"beta_a\",\n",
    "                       mu=0,\n",
    "                       sd=0.5\n",
    "                      )\n",
    "    div_mu = pm.Deterministic(\"div_mu\",\n",
    "                              var = alpha + beta_m*marriage_std + beta_a*age_std\n",
    "                             )\n",
    "    div_sd = pm.Exponential(\"div_sd\",\n",
    "                            1/0.3\n",
    "                           )\n",
    "    # Likelihood\n",
    "    div = pm.Normal(\"div\",\n",
    "                    mu=div_mu,\n",
    "                    sd=div_sd,\n",
    "                    observed=divorce_std\n",
    "                   )"
   ]
  },
  {
   "cell_type": "code",
   "execution_count": 88,
   "metadata": {},
   "outputs": [
    {
     "name": "stderr",
     "output_type": "stream",
     "text": [
      "Auto-assigning NUTS sampler...\n",
      "Initializing NUTS using jitter+adapt_diag...\n",
      "Multiprocess sampling (4 chains in 4 jobs)\n",
      "NUTS: [div_sd, beta_a, beta_m, alpha]\n"
     ]
    },
    {
     "data": {
      "text/html": [
       "\n",
       "    <div>\n",
       "        <style>\n",
       "            /* Turns off some styling */\n",
       "            progress {\n",
       "                /* gets rid of default border in Firefox and Opera. */\n",
       "                border: none;\n",
       "                /* Needs to be in here for Safari polyfill so background images work as expected. */\n",
       "                background-size: auto;\n",
       "            }\n",
       "            .progress-bar-interrupted, .progress-bar-interrupted::-webkit-progress-bar {\n",
       "                background: #F44336;\n",
       "            }\n",
       "        </style>\n",
       "      <progress value='8000' class='' max='8000' style='width:300px; height:20px; vertical-align: middle;'></progress>\n",
       "      100.00% [8000/8000 00:14<00:00 Sampling 4 chains, 0 divergences]\n",
       "    </div>\n",
       "    "
      ],
      "text/plain": [
       "<IPython.core.display.HTML object>"
      ]
     },
     "metadata": {},
     "output_type": "display_data"
    },
    {
     "name": "stderr",
     "output_type": "stream",
     "text": [
      "Sampling 4 chains for 1_000 tune and 1_000 draw iterations (4_000 + 4_000 draws total) took 26 seconds.\n"
     ]
    }
   ],
   "source": [
    "with multi_model:\n",
    "    multi_trace = pm.sample(1000,\n",
    "                            return_inferencedata=False)"
   ]
  },
  {
   "cell_type": "code",
   "execution_count": 90,
   "metadata": {},
   "outputs": [
    {
     "name": "stderr",
     "output_type": "stream",
     "text": [
      "C:\\Users\\andri\\anaconda3\\envs\\bayes\\lib\\site-packages\\arviz\\data\\io_pymc3.py:96: FutureWarning: Using `from_pymc3` without the model will be deprecated in a future release. Not using the model will return less accurate and less useful results. Make sure you use the model argument or call from_pymc3 within a model context.\n",
      "  warnings.warn(\n"
     ]
    },
    {
     "data": {
      "text/html": [
       "<div>\n",
       "<style scoped>\n",
       "    .dataframe tbody tr th:only-of-type {\n",
       "        vertical-align: middle;\n",
       "    }\n",
       "\n",
       "    .dataframe tbody tr th {\n",
       "        vertical-align: top;\n",
       "    }\n",
       "\n",
       "    .dataframe thead th {\n",
       "        text-align: right;\n",
       "    }\n",
       "</style>\n",
       "<table border=\"1\" class=\"dataframe\">\n",
       "  <thead>\n",
       "    <tr style=\"text-align: right;\">\n",
       "      <th></th>\n",
       "      <th>mean</th>\n",
       "      <th>sd</th>\n",
       "      <th>hdi_3%</th>\n",
       "      <th>hdi_97%</th>\n",
       "    </tr>\n",
       "  </thead>\n",
       "  <tbody>\n",
       "    <tr>\n",
       "      <th>alpha</th>\n",
       "      <td>0.00</td>\n",
       "      <td>0.10</td>\n",
       "      <td>-0.19</td>\n",
       "      <td>0.18</td>\n",
       "    </tr>\n",
       "    <tr>\n",
       "      <th>beta_m</th>\n",
       "      <td>-0.06</td>\n",
       "      <td>0.16</td>\n",
       "      <td>-0.34</td>\n",
       "      <td>0.25</td>\n",
       "    </tr>\n",
       "    <tr>\n",
       "      <th>beta_a</th>\n",
       "      <td>-0.61</td>\n",
       "      <td>0.16</td>\n",
       "      <td>-0.91</td>\n",
       "      <td>-0.32</td>\n",
       "    </tr>\n",
       "    <tr>\n",
       "      <th>div_sd</th>\n",
       "      <td>0.81</td>\n",
       "      <td>0.08</td>\n",
       "      <td>0.65</td>\n",
       "      <td>0.95</td>\n",
       "    </tr>\n",
       "  </tbody>\n",
       "</table>\n",
       "</div>"
      ],
      "text/plain": [
       "        mean    sd  hdi_3%  hdi_97%\n",
       "alpha   0.00  0.10   -0.19     0.18\n",
       "beta_m -0.06  0.16   -0.34     0.25\n",
       "beta_a -0.61  0.16   -0.91    -0.32\n",
       "div_sd  0.81  0.08    0.65     0.95"
      ]
     },
     "execution_count": 90,
     "metadata": {},
     "output_type": "execute_result"
    }
   ],
   "source": [
    "az.summary(multi_trace, var_names=[\"~div_mu\"], kind=\"stats\", round_to=2)"
   ]
  },
  {
   "cell_type": "code",
   "execution_count": 144,
   "metadata": {},
   "outputs": [
    {
     "name": "stderr",
     "output_type": "stream",
     "text": [
      "C:\\Users\\andri\\anaconda3\\envs\\bayes\\lib\\site-packages\\pymc3\\sampling.py:1689: UserWarning: samples parameter is smaller than nchains times ndraws, some draws and/or chains may not be represented in the returned posterior predictive sample\n",
      "  warnings.warn(\n"
     ]
    },
    {
     "data": {
      "text/html": [
       "\n",
       "    <div>\n",
       "        <style>\n",
       "            /* Turns off some styling */\n",
       "            progress {\n",
       "                /* gets rid of default border in Firefox and Opera. */\n",
       "                border: none;\n",
       "                /* Needs to be in here for Safari polyfill so background images work as expected. */\n",
       "                background-size: auto;\n",
       "            }\n",
       "            .progress-bar-interrupted, .progress-bar-interrupted::-webkit-progress-bar {\n",
       "                background: #F44336;\n",
       "            }\n",
       "        </style>\n",
       "      <progress value='1000' class='' max='1000' style='width:300px; height:20px; vertical-align: middle;'></progress>\n",
       "      100.00% [1000/1000 00:00<00:00]\n",
       "    </div>\n",
       "    "
      ],
      "text/plain": [
       "<IPython.core.display.HTML object>"
      ]
     },
     "metadata": {},
     "output_type": "display_data"
    }
   ],
   "source": [
    "with multi_model:\n",
    "    div_samples = pm.sample_posterior_predictive(multi_trace,\n",
    "                                                 samples=1000,\n",
    "                                                 var_names=[\"div_mu\", \"div\"],\n",
    "                                                 )"
   ]
  },
  {
   "cell_type": "code",
   "execution_count": 145,
   "metadata": {},
   "outputs": [
    {
     "data": {
      "text/plain": [
       "(1000, 50)"
      ]
     },
     "execution_count": 145,
     "metadata": {},
     "output_type": "execute_result"
    }
   ],
   "source": [
    "div_samples[\"div\"].shape"
   ]
  },
  {
   "cell_type": "code",
   "execution_count": 146,
   "metadata": {},
   "outputs": [],
   "source": [
    "div_mu_samples_mean = div_samples[\"div_mu\"].mean(0)\n",
    "div_samples_mean = div_samples[\"div\"].mean(0)"
   ]
  },
  {
   "cell_type": "code",
   "execution_count": 149,
   "metadata": {},
   "outputs": [
    {
     "name": "stderr",
     "output_type": "stream",
     "text": [
      "C:\\Users\\andri\\anaconda3\\envs\\bayes\\lib\\site-packages\\arviz\\stats\\stats.py:456: FutureWarning: hdi currently interprets 2d data as (draw, shape) but this will change in a future release to (chain, draw) for coherence with other functions\n",
      "  warnings.warn(\n"
     ]
    }
   ],
   "source": [
    "div_mu_samples_sigma = az.hdi(div_samples[\"div_mu\"], hdi_prob=0.89)\n",
    "div_samples_sigma = az.hdi(div_samples[\"div\"], hdi_prob=0.89)"
   ]
  },
  {
   "cell_type": "code",
   "execution_count": 152,
   "metadata": {},
   "outputs": [
    {
     "data": {
      "text/plain": [
       "(50,)"
      ]
     },
     "execution_count": 152,
     "metadata": {},
     "output_type": "execute_result"
    }
   ],
   "source": [
    "div_mu_samples_mean.shape"
   ]
  },
  {
   "cell_type": "code",
   "execution_count": 154,
   "metadata": {},
   "outputs": [
    {
     "data": {
      "text/plain": [
       "(2, 50)"
      ]
     },
     "execution_count": 154,
     "metadata": {},
     "output_type": "execute_result"
    }
   ],
   "source": [
    "div_mu_samples_sigma.T.shape"
   ]
  },
  {
   "cell_type": "code",
   "execution_count": 151,
   "metadata": {},
   "outputs": [
    {
     "data": {
      "text/plain": [
       "<ErrorbarContainer object of 3 artists>"
      ]
     },
     "execution_count": 151,
     "metadata": {},
     "output_type": "execute_result"
    },
    {
     "data": {
      "image/png": "[encoded data removed]",
      "text/plain": [
       "<Figure size 504x504 with 1 Axes>"
      ]
     },
     "metadata": {
      "needs_background": "light"
     },
     "output_type": "display_data"
    }
   ],
   "source": [
    "_, ax = plt.subplots(figsize=(7, 7))\n",
    "\n",
    "ax.plot([-2, 2], [-2, 2], \"k--\")\n",
    "\n",
    "ax.errorbar(divorce_std,\n",
    "            div_mu_samples_mean,\n",
    "            yerr = np.abs(div_mu_samples_mean - div_mu_samples_sigma.T),\n",
    "            fmt=\"o\"\n",
    "           )"
   ]
  },
  {
   "cell_type": "markdown",
   "metadata": {},
   "source": [
    "#### Counterfactual plots"
   ]
  },
  {
   "cell_type": "code",
   "execution_count": 177,
   "metadata": {},
   "outputs": [],
   "source": [
    "# Extended model with multiple regression models\n",
    "\n",
    "with pm.Model() as extended_model:\n",
    "    # Shared data\n",
    "    A = shared(value=age_std.values,\n",
    "               name=\"A\"\n",
    "               )\n",
    "    M = shared(name=\"M\",\n",
    "               value=marriage_std.values\n",
    "               )\n",
    "    \n",
    "    # A -> M\n",
    "    \n",
    "    # Priors\n",
    "    alphaA = pm.Normal(\"alphaA\",\n",
    "                       mu=0,\n",
    "                       sd=0.2\n",
    "                      )\n",
    "    betaAM = pm.Normal(\"betaAM\",\n",
    "                       mu=0,\n",
    "                       sd=0.5\n",
    "                      )\n",
    "    mar_mu = pm.Deterministic(\"mar_mu\",\n",
    "                              var=alphaA + betaAM*A\n",
    "                             )\n",
    "    mar_sd = pm.Exponential(\"mar_sd\",\n",
    "                            lam=1/0.2\n",
    "                           )\n",
    "    # Likelihood\n",
    "    mar = pm.Normal(\"mar\",\n",
    "                    mu=mar_mu,\n",
    "                    sd=mar_sd,\n",
    "                    observed=M)   \n",
    "    \n",
    "    # A -> D <- M\n",
    "    \n",
    "    # Priors\n",
    "    alpha = pm.Normal(\"alpha\",\n",
    "                        mu=0,\n",
    "                        sd=0.2\n",
    "                       )\n",
    "    betaA = pm.Normal(\"betaA\",\n",
    "                      mu=0,\n",
    "                      sd=0.5\n",
    "                     )\n",
    "    betaM = pm.Normal(\"betaM\",\n",
    "                      mu=0,\n",
    "                      sd=0.5\n",
    "                     )\n",
    "    div_mu = pm.Deterministic(\"div_mu\",\n",
    "                              var=alpha + betaA*A + betaM*M\n",
    "                             )\n",
    "    div_sd = pm.Exponential(\"div_sd\",\n",
    "                            lam=1/0.2)\n",
    "    # Likelihood\n",
    "    div = pm.Normal(\"div\",\n",
    "                    mu=div_mu,\n",
    "                    sd=div_sd,\n",
    "                    observed=divorce_std\n",
    "                   )               "
   ]
  },
  {
   "cell_type": "code",
   "execution_count": 178,
   "metadata": {},
   "outputs": [
    {
     "name": "stderr",
     "output_type": "stream",
     "text": [
      "Auto-assigning NUTS sampler...\n",
      "Initializing NUTS using jitter+adapt_diag...\n",
      "Multiprocess sampling (4 chains in 4 jobs)\n",
      "NUTS: [div_sd, betaM, betaA, alpha, mar_sd, betaAM, alphaA]\n"
     ]
    },
    {
     "data": {
      "text/html": [
       "\n",
       "    <div>\n",
       "        <style>\n",
       "            /* Turns off some styling */\n",
       "            progress {\n",
       "                /* gets rid of default border in Firefox and Opera. */\n",
       "                border: none;\n",
       "                /* Needs to be in here for Safari polyfill so background images work as expected. */\n",
       "                background-size: auto;\n",
       "            }\n",
       "            .progress-bar-interrupted, .progress-bar-interrupted::-webkit-progress-bar {\n",
       "                background: #F44336;\n",
       "            }\n",
       "        </style>\n",
       "      <progress value='8000' class='' max='8000' style='width:300px; height:20px; vertical-align: middle;'></progress>\n",
       "      100.00% [8000/8000 00:05<00:00 Sampling 4 chains, 0 divergences]\n",
       "    </div>\n",
       "    "
      ],
      "text/plain": [
       "<IPython.core.display.HTML object>"
      ]
     },
     "metadata": {},
     "output_type": "display_data"
    },
    {
     "name": "stderr",
     "output_type": "stream",
     "text": [
      "Sampling 4 chains for 1_000 tune and 1_000 draw iterations (4_000 + 4_000 draws total) took 17 seconds.\n"
     ]
    }
   ],
   "source": [
    "with extended_model:\n",
    "    extended_trace = pm.sample(1000,\n",
    "                               return_inferencedata=False)"
   ]
  },
  {
   "cell_type": "code",
   "execution_count": 174,
   "metadata": {},
   "outputs": [
    {
     "name": "stderr",
     "output_type": "stream",
     "text": [
      "C:\\Users\\andri\\anaconda3\\envs\\bayes\\lib\\site-packages\\arviz\\data\\io_pymc3.py:96: FutureWarning: Using `from_pymc3` without the model will be deprecated in a future release. Not using the model will return less accurate and less useful results. Make sure you use the model argument or call from_pymc3 within a model context.\n",
      "  warnings.warn(\n"
     ]
    },
    {
     "data": {
      "text/html": [
       "<div>\n",
       "<style scoped>\n",
       "    .dataframe tbody tr th:only-of-type {\n",
       "        vertical-align: middle;\n",
       "    }\n",
       "\n",
       "    .dataframe tbody tr th {\n",
       "        vertical-align: top;\n",
       "    }\n",
       "\n",
       "    .dataframe thead th {\n",
       "        text-align: right;\n",
       "    }\n",
       "</style>\n",
       "<table border=\"1\" class=\"dataframe\">\n",
       "  <thead>\n",
       "    <tr style=\"text-align: right;\">\n",
       "      <th></th>\n",
       "      <th>mean</th>\n",
       "      <th>sd</th>\n",
       "      <th>hdi_3%</th>\n",
       "      <th>hdi_97%</th>\n",
       "    </tr>\n",
       "  </thead>\n",
       "  <tbody>\n",
       "    <tr>\n",
       "      <th>alpha</th>\n",
       "      <td>0.00</td>\n",
       "      <td>0.10</td>\n",
       "      <td>-0.18</td>\n",
       "      <td>0.18</td>\n",
       "    </tr>\n",
       "    <tr>\n",
       "      <th>betaA</th>\n",
       "      <td>-0.61</td>\n",
       "      <td>0.15</td>\n",
       "      <td>-0.90</td>\n",
       "      <td>-0.32</td>\n",
       "    </tr>\n",
       "    <tr>\n",
       "      <th>betaM</th>\n",
       "      <td>-0.06</td>\n",
       "      <td>0.15</td>\n",
       "      <td>-0.34</td>\n",
       "      <td>0.24</td>\n",
       "    </tr>\n",
       "    <tr>\n",
       "      <th>div_sd</th>\n",
       "      <td>0.80</td>\n",
       "      <td>0.08</td>\n",
       "      <td>0.66</td>\n",
       "      <td>0.95</td>\n",
       "    </tr>\n",
       "    <tr>\n",
       "      <th>alphaA</th>\n",
       "      <td>-0.00</td>\n",
       "      <td>0.09</td>\n",
       "      <td>-0.17</td>\n",
       "      <td>0.16</td>\n",
       "    </tr>\n",
       "    <tr>\n",
       "      <th>betaAM</th>\n",
       "      <td>-0.69</td>\n",
       "      <td>0.10</td>\n",
       "      <td>-0.86</td>\n",
       "      <td>-0.50</td>\n",
       "    </tr>\n",
       "    <tr>\n",
       "      <th>mar_sd</th>\n",
       "      <td>0.69</td>\n",
       "      <td>0.07</td>\n",
       "      <td>0.57</td>\n",
       "      <td>0.83</td>\n",
       "    </tr>\n",
       "  </tbody>\n",
       "</table>\n",
       "</div>"
      ],
      "text/plain": [
       "        mean    sd  hdi_3%  hdi_97%\n",
       "alpha   0.00  0.10   -0.18     0.18\n",
       "betaA  -0.61  0.15   -0.90    -0.32\n",
       "betaM  -0.06  0.15   -0.34     0.24\n",
       "div_sd  0.80  0.08    0.66     0.95\n",
       "alphaA -0.00  0.09   -0.17     0.16\n",
       "betaAM -0.69  0.10   -0.86    -0.50\n",
       "mar_sd  0.69  0.07    0.57     0.83"
      ]
     },
     "execution_count": 174,
     "metadata": {},
     "output_type": "execute_result"
    }
   ],
   "source": [
    "az.summary(extended_trace, var_names=[\"alpha\", \"betaA\", \"betaM\", \"div_sd\",\n",
    "                                      \"alphaA\", \"betaAM\", \"mar_sd\"], kind=\"stats\", round_to=2)"
   ]
  },
  {
   "cell_type": "code",
   "execution_count": 175,
   "metadata": {},
   "outputs": [],
   "source": [
    "# Test values for the marriage age\n",
    "\n",
    "A_seq = np.linspace(-2, 2, 30)"
   ]
  },
  {
   "cell_type": "code",
   "execution_count": 185,
   "metadata": {},
   "outputs": [
    {
     "data": {
      "text/html": [
       "\n",
       "    <div>\n",
       "        <style>\n",
       "            /* Turns off some styling */\n",
       "            progress {\n",
       "                /* gets rid of default border in Firefox and Opera. */\n",
       "                border: none;\n",
       "                /* Needs to be in here for Safari polyfill so background images work as expected. */\n",
       "                background-size: auto;\n",
       "            }\n",
       "            .progress-bar-interrupted, .progress-bar-interrupted::-webkit-progress-bar {\n",
       "                background: #F44336;\n",
       "            }\n",
       "        </style>\n",
       "      <progress value='1000' class='' max='1000' style='width:300px; height:20px; vertical-align: middle;'></progress>\n",
       "      100.00% [1000/1000 00:07<00:00]\n",
       "    </div>\n",
       "    "
      ],
      "text/plain": [
       "<IPython.core.display.HTML object>"
      ]
     },
     "metadata": {},
     "output_type": "display_data"
    },
    {
     "data": {
      "text/html": [
       "\n",
       "    <div>\n",
       "        <style>\n",
       "            /* Turns off some styling */\n",
       "            progress {\n",
       "                /* gets rid of default border in Firefox and Opera. */\n",
       "                border: none;\n",
       "                /* Needs to be in here for Safari polyfill so background images work as expected. */\n",
       "                background-size: auto;\n",
       "            }\n",
       "            .progress-bar-interrupted, .progress-bar-interrupted::-webkit-progress-bar {\n",
       "                background: #F44336;\n",
       "            }\n",
       "        </style>\n",
       "      <progress value='1000' class='' max='1000' style='width:300px; height:20px; vertical-align: middle;'></progress>\n",
       "      100.00% [1000/1000 00:09<00:00]\n",
       "    </div>\n",
       "    "
      ],
      "text/plain": [
       "<IPython.core.display.HTML object>"
      ]
     },
     "metadata": {},
     "output_type": "display_data"
    }
   ],
   "source": [
    "# Simulate values for the new marriage ages\n",
    "# With pymc3 we need to run this sequentially\n",
    "\n",
    "with extended_model:\n",
    "    A.set_value(A_seq)\n",
    "    sim_M_data = pm.sample_posterior_predictive(extended_trace,\n",
    "                                                var_names=[\"mar\"],\n",
    "                                                samples=1000)[\"mar\"]\n",
    "    M.set_value(sim_M_data.mean(0))\n",
    "    sim_data = pm.sample_posterior_predictive(extended_trace,\n",
    "                                              var_names=[\"mar_mu\", \"mar\", \"div_mu\", \"div\"],\n",
    "                                              samples=1000)"
   ]
  },
  {
   "cell_type": "code",
   "execution_count": 198,
   "metadata": {},
   "outputs": [
    {
     "name": "stderr",
     "output_type": "stream",
     "text": [
      "C:\\Users\\andri\\anaconda3\\envs\\bayes\\lib\\site-packages\\arviz\\stats\\stats.py:456: FutureWarning: hdi currently interprets 2d data as (draw, shape) but this will change in a future release to (chain, draw) for coherence with other functions\n",
      "  warnings.warn(\n",
      "C:\\Users\\andri\\anaconda3\\envs\\bayes\\lib\\site-packages\\arviz\\stats\\stats.py:456: FutureWarning: hdi currently interprets 2d data as (draw, shape) but this will change in a future release to (chain, draw) for coherence with other functions\n",
      "  warnings.warn(\n"
     ]
    },
    {
     "data": {
      "text/plain": [
       "Text(0, 0.5, 'Counterfactual marriage rate (std)')"
      ]
     },
     "execution_count": 198,
     "metadata": {},
     "output_type": "execute_result"
    },
    {
     "data": {
      "image/png": "[encoded data removed]",
      "text/plain": [
       "<Figure size 864x360 with 2 Axes>"
      ]
     },
     "metadata": {
      "needs_background": "light"
     },
     "output_type": "display_data"
    }
   ],
   "source": [
    "_, axes = plt.subplots(1, 2, figsize=(12, 5))\n",
    "\n",
    "axes[0].plot(A_seq,\n",
    "             sim_data[\"div\"].mean(0),\n",
    "             \"k-\",\n",
    "            )\n",
    "axes[0].fill_between(A_seq,\n",
    "                     az.hdi(sim_data[\"div\"], hdi_prob=0.89)[:, 0],\n",
    "                     az.hdi(sim_data[\"div\"], hdi_prob=0.89)[:, 1],\n",
    "                     alpha=0.6,\n",
    "                     color=\"C1\"\n",
    "                    )\n",
    "axes[0].set_title(\"Total counterfactual effect of A on D\")\n",
    "axes[0].set_xlabel(\"Manipulated median age (std)\")\n",
    "axes[0].set_ylabel(\"Counterfactual divorce rate (std)\")\n",
    "\n",
    "axes[1].plot(A_seq,\n",
    "             sim_data[\"mar\"].mean(0),\n",
    "             \"k-\",\n",
    "            )\n",
    "axes[1].fill_between(A_seq,\n",
    "                     az.hdi(sim_data[\"mar\"], hdi_prob=0.89)[:, 0],\n",
    "                     az.hdi(sim_data[\"mar\"], hdi_prob=0.89)[:, 1],\n",
    "                     alpha=0.6,\n",
    "                     color=\"C1\"\n",
    "                    )\n",
    "axes[1].set_title(\"Total counterfactual effect of A on M\")\n",
    "axes[1].set_xlabel(\"Manipulated median age (std)\")\n",
    "axes[1].set_ylabel(\"Counterfactual marriage rate (std)\")"
   ]
  },
  {
   "cell_type": "markdown",
   "metadata": {},
   "source": [
    "### Masked relationships"
   ]
  },
  {
   "cell_type": "code",
   "execution_count": 201,
   "metadata": {},
   "outputs": [],
   "source": [
    "df = pd.read_csv(\"../Data/milk.csv\", sep=\";\")"
   ]
  },
  {
   "cell_type": "code",
   "execution_count": 202,
   "metadata": {},
   "outputs": [
    {
     "data": {
      "text/html": [
       "<div>\n",
       "<style scoped>\n",
       "    .dataframe tbody tr th:only-of-type {\n",
       "        vertical-align: middle;\n",
       "    }\n",
       "\n",
       "    .dataframe tbody tr th {\n",
       "        vertical-align: top;\n",
       "    }\n",
       "\n",
       "    .dataframe thead th {\n",
       "        text-align: right;\n",
       "    }\n",
       "</style>\n",
       "<table border=\"1\" class=\"dataframe\">\n",
       "  <thead>\n",
       "    <tr style=\"text-align: right;\">\n",
       "      <th></th>\n",
       "      <th>clade</th>\n",
       "      <th>species</th>\n",
       "      <th>kcal.per.g</th>\n",
       "      <th>perc.fat</th>\n",
       "      <th>perc.protein</th>\n",
       "      <th>perc.lactose</th>\n",
       "      <th>mass</th>\n",
       "      <th>neocortex.perc</th>\n",
       "    </tr>\n",
       "  </thead>\n",
       "  <tbody>\n",
       "    <tr>\n",
       "      <th>0</th>\n",
       "      <td>Strepsirrhine</td>\n",
       "      <td>Eulemur fulvus</td>\n",
       "      <td>0.49</td>\n",
       "      <td>16.60</td>\n",
       "      <td>15.42</td>\n",
       "      <td>67.98</td>\n",
       "      <td>1.95</td>\n",
       "      <td>55.16</td>\n",
       "    </tr>\n",
       "    <tr>\n",
       "      <th>1</th>\n",
       "      <td>Strepsirrhine</td>\n",
       "      <td>E macaco</td>\n",
       "      <td>0.51</td>\n",
       "      <td>19.27</td>\n",
       "      <td>16.91</td>\n",
       "      <td>63.82</td>\n",
       "      <td>2.09</td>\n",
       "      <td>NaN</td>\n",
       "    </tr>\n",
       "    <tr>\n",
       "      <th>2</th>\n",
       "      <td>Strepsirrhine</td>\n",
       "      <td>E mongoz</td>\n",
       "      <td>0.46</td>\n",
       "      <td>14.11</td>\n",
       "      <td>16.85</td>\n",
       "      <td>69.04</td>\n",
       "      <td>2.51</td>\n",
       "      <td>NaN</td>\n",
       "    </tr>\n",
       "    <tr>\n",
       "      <th>3</th>\n",
       "      <td>Strepsirrhine</td>\n",
       "      <td>E rubriventer</td>\n",
       "      <td>0.48</td>\n",
       "      <td>14.91</td>\n",
       "      <td>13.18</td>\n",
       "      <td>71.91</td>\n",
       "      <td>1.62</td>\n",
       "      <td>NaN</td>\n",
       "    </tr>\n",
       "    <tr>\n",
       "      <th>4</th>\n",
       "      <td>Strepsirrhine</td>\n",
       "      <td>Lemur catta</td>\n",
       "      <td>0.60</td>\n",
       "      <td>27.28</td>\n",
       "      <td>19.50</td>\n",
       "      <td>53.22</td>\n",
       "      <td>2.19</td>\n",
       "      <td>NaN</td>\n",
       "    </tr>\n",
       "  </tbody>\n",
       "</table>\n",
       "</div>"
      ],
      "text/plain": [
       "           clade         species  kcal.per.g  perc.fat  perc.protein  \\\n",
       "0  Strepsirrhine  Eulemur fulvus        0.49     16.60         15.42   \n",
       "1  Strepsirrhine        E macaco        0.51     19.27         16.91   \n",
       "2  Strepsirrhine        E mongoz        0.46     14.11         16.85   \n",
       "3  Strepsirrhine   E rubriventer        0.48     14.91         13.18   \n",
       "4  Strepsirrhine     Lemur catta        0.60     27.28         19.50   \n",
       "\n",
       "   perc.lactose  mass  neocortex.perc  \n",
       "0         67.98  1.95           55.16  \n",
       "1         63.82  2.09             NaN  \n",
       "2         69.04  2.51             NaN  \n",
       "3         71.91  1.62             NaN  \n",
       "4         53.22  2.19             NaN  "
      ]
     },
     "execution_count": 202,
     "metadata": {},
     "output_type": "execute_result"
    }
   ],
   "source": [
    "df.head()"
   ]
  },
  {
   "cell_type": "code",
   "execution_count": 203,
   "metadata": {},
   "outputs": [],
   "source": [
    "# Function to standardize variables\n",
    "\n",
    "def standardize(series: pd.Series) -> pd.Series:\n",
    "    return (series - series.mean())/series.std()"
   ]
  },
  {
   "cell_type": "code",
   "execution_count": 206,
   "metadata": {},
   "outputs": [],
   "source": [
    "df = df.dropna()\n",
    "\n",
    "energy_std = standardize(df[\"kcal.per.g\"])\n",
    "neo_std = standardize(df[\"neocortex.perc\"])\n",
    "mass_std = standardize(np.log(df[\"mass\"]))"
   ]
  },
  {
   "cell_type": "markdown",
   "metadata": {},
   "source": [
    "#### Energy vs. neocortex"
   ]
  },
  {
   "cell_type": "code",
   "execution_count": 247,
   "metadata": {},
   "outputs": [],
   "source": [
    "with pm.Model() as m55:\n",
    "    # Data\n",
    "    N = pm.Data(\"N\",\n",
    "                neo_std\n",
    "               )\n",
    "    \n",
    "    # Priors\n",
    "    alpha = pm.Normal(\"alpha\",\n",
    "                      mu=0,\n",
    "                      sd=0.2\n",
    "                     )\n",
    "    betaN = pm.Normal(\"betaN\",\n",
    "                      mu=0,\n",
    "                      sd=0.5\n",
    "                     )\n",
    "    en_mu = pm.Deterministic(\"en_mu\",\n",
    "                             var=alpha + betaN*N\n",
    "                            )\n",
    "    en_sd = pm.Exponential(\"en_sd\",\n",
    "                           lam=1\n",
    "                          )\n",
    "    \n",
    "    # Likelihood\n",
    "    en = pm.Normal(\"en\",\n",
    "                   mu=en_mu,\n",
    "                   sd=en_sd,\n",
    "                   observed=energy_std\n",
    "                  )"
   ]
  },
  {
   "cell_type": "code",
   "execution_count": 248,
   "metadata": {},
   "outputs": [
    {
     "name": "stderr",
     "output_type": "stream",
     "text": [
      "Auto-assigning NUTS sampler...\n",
      "Initializing NUTS using jitter+adapt_diag...\n",
      "Multiprocess sampling (4 chains in 4 jobs)\n",
      "NUTS: [en_sd, betaN, alpha]\n"
     ]
    },
    {
     "data": {
      "text/html": [
       "\n",
       "    <div>\n",
       "        <style>\n",
       "            /* Turns off some styling */\n",
       "            progress {\n",
       "                /* gets rid of default border in Firefox and Opera. */\n",
       "                border: none;\n",
       "                /* Needs to be in here for Safari polyfill so background images work as expected. */\n",
       "                background-size: auto;\n",
       "            }\n",
       "            .progress-bar-interrupted, .progress-bar-interrupted::-webkit-progress-bar {\n",
       "                background: #F44336;\n",
       "            }\n",
       "        </style>\n",
       "      <progress value='8000' class='' max='8000' style='width:300px; height:20px; vertical-align: middle;'></progress>\n",
       "      100.00% [8000/8000 00:03<00:00 Sampling 4 chains, 0 divergences]\n",
       "    </div>\n",
       "    "
      ],
      "text/plain": [
       "<IPython.core.display.HTML object>"
      ]
     },
     "metadata": {},
     "output_type": "display_data"
    },
    {
     "name": "stderr",
     "output_type": "stream",
     "text": [
      "Sampling 4 chains for 1_000 tune and 1_000 draw iterations (4_000 + 4_000 draws total) took 14 seconds.\n"
     ]
    }
   ],
   "source": [
    "# Fit for posterior and sample for predictions\n",
    "\n",
    "with m55:\n",
    "    m55_trace = pm.sample(1000,\n",
    "                          return_inferencedata=True\n",
    "                         )"
   ]
  },
  {
   "cell_type": "code",
   "execution_count": 225,
   "metadata": {},
   "outputs": [],
   "source": [
    "# Sample prior distribution\n",
    "\n",
    "# It's useful to use a new sets of values to sample the data that are ordered for plotting reasons\n",
    "neo_seq = np.linspace(-2, 2, 30)\n",
    "\n",
    "with m55:\n",
    "    pm.set_data({\"N\": neo_seq})\n",
    "    prior_samples = pm.sample_prior_predictive(samples=40)"
   ]
  },
  {
   "cell_type": "code",
   "execution_count": 226,
   "metadata": {},
   "outputs": [
    {
     "data": {
      "text/plain": [
       "(-2.0, 2.0)"
      ]
     },
     "execution_count": 226,
     "metadata": {},
     "output_type": "execute_result"
    },
    {
     "data": {
      "image/png": "[encoded data removed]",
      "text/plain": [
       "<Figure size 576x576 with 1 Axes>"
      ]
     },
     "metadata": {
      "needs_background": "light"
     },
     "output_type": "display_data"
    }
   ],
   "source": [
    "_, ax = plt.subplots(figsize=(8, 8))\n",
    "\n",
    "for i in range(len(prior_samples[\"en\"])):\n",
    "    ax.plot(neo_seq,\n",
    "            prior_samples[\"alpha\"][i] + prior_samples[\"betaN\"][i]*neo_seq,\n",
    "            \"k-\",\n",
    "            alpha=0.5\n",
    "           )\n",
    "ax.set_xlim(-2, 2)\n",
    "ax.set_ylim(-2, 2)"
   ]
  },
  {
   "cell_type": "code",
   "execution_count": 236,
   "metadata": {},
   "outputs": [
    {
     "name": "stderr",
     "output_type": "stream",
     "text": [
      "C:\\Users\\andri\\anaconda3\\envs\\bayes\\lib\\site-packages\\pymc3\\sampling.py:1689: UserWarning: samples parameter is smaller than nchains times ndraws, some draws and/or chains may not be represented in the returned posterior predictive sample\n",
      "  warnings.warn(\n"
     ]
    },
    {
     "data": {
      "text/html": [
       "\n",
       "    <div>\n",
       "        <style>\n",
       "            /* Turns off some styling */\n",
       "            progress {\n",
       "                /* gets rid of default border in Firefox and Opera. */\n",
       "                border: none;\n",
       "                /* Needs to be in here for Safari polyfill so background images work as expected. */\n",
       "                background-size: auto;\n",
       "            }\n",
       "            .progress-bar-interrupted, .progress-bar-interrupted::-webkit-progress-bar {\n",
       "                background: #F44336;\n",
       "            }\n",
       "        </style>\n",
       "      <progress value='1000' class='' max='1000' style='width:300px; height:20px; vertical-align: middle;'></progress>\n",
       "      100.00% [1000/1000 00:01<00:00]\n",
       "    </div>\n",
       "    "
      ],
      "text/plain": [
       "<IPython.core.display.HTML object>"
      ]
     },
     "metadata": {},
     "output_type": "display_data"
    }
   ],
   "source": [
    "with m55:\n",
    "    post_samples = pm.sample_posterior_predictive(m55_trace,\n",
    "                                                  samples=1000,\n",
    "                                                  var_names=[\"en\", \"en_mu\", \"alpha\", \"betaN\"]\n",
    "                                                 )"
   ]
  },
  {
   "cell_type": "code",
   "execution_count": 229,
   "metadata": {},
   "outputs": [
    {
     "name": "stderr",
     "output_type": "stream",
     "text": [
      "C:\\Users\\andri\\anaconda3\\envs\\bayes\\lib\\site-packages\\arviz\\data\\io_pymc3.py:96: FutureWarning: Using `from_pymc3` without the model will be deprecated in a future release. Not using the model will return less accurate and less useful results. Make sure you use the model argument or call from_pymc3 within a model context.\n",
      "  warnings.warn(\n"
     ]
    },
    {
     "data": {
      "text/html": [
       "<div>\n",
       "<style scoped>\n",
       "    .dataframe tbody tr th:only-of-type {\n",
       "        vertical-align: middle;\n",
       "    }\n",
       "\n",
       "    .dataframe tbody tr th {\n",
       "        vertical-align: top;\n",
       "    }\n",
       "\n",
       "    .dataframe thead th {\n",
       "        text-align: right;\n",
       "    }\n",
       "</style>\n",
       "<table border=\"1\" class=\"dataframe\">\n",
       "  <thead>\n",
       "    <tr style=\"text-align: right;\">\n",
       "      <th></th>\n",
       "      <th>mean</th>\n",
       "      <th>sd</th>\n",
       "      <th>hdi_3%</th>\n",
       "      <th>hdi_97%</th>\n",
       "    </tr>\n",
       "  </thead>\n",
       "  <tbody>\n",
       "    <tr>\n",
       "      <th>alpha</th>\n",
       "      <td>-0.00</td>\n",
       "      <td>0.16</td>\n",
       "      <td>-0.31</td>\n",
       "      <td>0.29</td>\n",
       "    </tr>\n",
       "    <tr>\n",
       "      <th>betaN</th>\n",
       "      <td>0.12</td>\n",
       "      <td>0.23</td>\n",
       "      <td>-0.30</td>\n",
       "      <td>0.55</td>\n",
       "    </tr>\n",
       "    <tr>\n",
       "      <th>en_sd</th>\n",
       "      <td>1.03</td>\n",
       "      <td>0.19</td>\n",
       "      <td>0.73</td>\n",
       "      <td>1.39</td>\n",
       "    </tr>\n",
       "  </tbody>\n",
       "</table>\n",
       "</div>"
      ],
      "text/plain": [
       "       mean    sd  hdi_3%  hdi_97%\n",
       "alpha -0.00  0.16   -0.31     0.29\n",
       "betaN  0.12  0.23   -0.30     0.55\n",
       "en_sd  1.03  0.19    0.73     1.39"
      ]
     },
     "execution_count": 229,
     "metadata": {},
     "output_type": "execute_result"
    }
   ],
   "source": [
    "az.summary(m55_trace, var_names=[\"~en_mu\"], kind=\"stats\", round_to=2)"
   ]
  },
  {
   "cell_type": "code",
   "execution_count": 239,
   "metadata": {},
   "outputs": [
    {
     "name": "stderr",
     "output_type": "stream",
     "text": [
      "C:\\Users\\andri\\anaconda3\\envs\\bayes\\lib\\site-packages\\arviz\\stats\\stats.py:456: FutureWarning: hdi currently interprets 2d data as (draw, shape) but this will change in a future release to (chain, draw) for coherence with other functions\n",
      "  warnings.warn(\n"
     ]
    },
    {
     "data": {
      "text/plain": [
       "<matplotlib.collections.PolyCollection at 0x1e2d519e190>"
      ]
     },
     "execution_count": 239,
     "metadata": {},
     "output_type": "execute_result"
    },
    {
     "data": {
      "image/png": "[encoded data removed]",
      "text/plain": [
       "<Figure size 504x360 with 1 Axes>"
      ]
     },
     "metadata": {
      "needs_background": "light"
     },
     "output_type": "display_data"
    }
   ],
   "source": [
    "_, ax = plt.subplots(figsize=(7, 5))\n",
    "\n",
    "ax.plot(neo_std,\n",
    "        energy_std,\n",
    "        \"C0o\",\n",
    "       )\n",
    "ax.plot(neo_seq,\n",
    "        post_samples[\"alpha\"].mean() + post_samples[\"betaN\"].mean()*neo_seq,\n",
    "        \"k-\"\n",
    "       )\n",
    "ax.fill_between(neo_seq,\n",
    "                az.hdi(post_samples[\"en_mu\"], hdi_prob=0.89)[:, 0],\n",
    "                az.hdi(post_samples[\"en_mu\"], hdi_prob=0.89)[:, 1],\n",
    "                alpha=0.5\n",
    "               )"
   ]
  },
  {
   "cell_type": "markdown",
   "metadata": {},
   "source": [
    "#### Energy vs. mass"
   ]
  },
  {
   "cell_type": "code",
   "execution_count": 241,
   "metadata": {},
   "outputs": [],
   "source": [
    "with pm.Model() as m56:\n",
    "    # Data\n",
    "    M = pm.Data(\"M\",\n",
    "                mass_std\n",
    "               )\n",
    "    \n",
    "    # Priors\n",
    "    alpha = pm.Normal(\"alpha\",\n",
    "                      mu=0,\n",
    "                      sd=0.2\n",
    "                     )\n",
    "    betaM = pm.Normal(\"betaM\",\n",
    "                      mu=0, \n",
    "                      sd=0.5\n",
    "                     )\n",
    "    en_mu = pm.Deterministic(\"en_mu\",\n",
    "                             var=alpha + betaM*M\n",
    "                            )\n",
    "    en_sd = pm.Exponential(\"en_sd\",\n",
    "                           lam=1\n",
    "                          )\n",
    "    \n",
    "    #Likelihood\n",
    "    en = pm.Normal(\"en\",\n",
    "                   mu=en_mu,\n",
    "                   sd=en_sd,\n",
    "                   observed=energy_std\n",
    "                  )"
   ]
  },
  {
   "cell_type": "code",
   "execution_count": 242,
   "metadata": {},
   "outputs": [
    {
     "name": "stderr",
     "output_type": "stream",
     "text": [
      "Auto-assigning NUTS sampler...\n",
      "Initializing NUTS using jitter+adapt_diag...\n",
      "Multiprocess sampling (4 chains in 4 jobs)\n",
      "NUTS: [en_sd, betaM, alpha]\n"
     ]
    },
    {
     "data": {
      "text/html": [
       "\n",
       "    <div>\n",
       "        <style>\n",
       "            /* Turns off some styling */\n",
       "            progress {\n",
       "                /* gets rid of default border in Firefox and Opera. */\n",
       "                border: none;\n",
       "                /* Needs to be in here for Safari polyfill so background images work as expected. */\n",
       "                background-size: auto;\n",
       "            }\n",
       "            .progress-bar-interrupted, .progress-bar-interrupted::-webkit-progress-bar {\n",
       "                background: #F44336;\n",
       "            }\n",
       "        </style>\n",
       "      <progress value='8000' class='' max='8000' style='width:300px; height:20px; vertical-align: middle;'></progress>\n",
       "      100.00% [8000/8000 00:03<00:00 Sampling 4 chains, 0 divergences]\n",
       "    </div>\n",
       "    "
      ],
      "text/plain": [
       "<IPython.core.display.HTML object>"
      ]
     },
     "metadata": {},
     "output_type": "display_data"
    },
    {
     "name": "stderr",
     "output_type": "stream",
     "text": [
      "Sampling 4 chains for 1_000 tune and 1_000 draw iterations (4_000 + 4_000 draws total) took 15 seconds.\n"
     ]
    }
   ],
   "source": [
    "# Fit posterior\n",
    "with m56:\n",
    "    m56_trace = pm.sample(1000,\n",
    "                          return_inferencedata=True\n",
    "                         )"
   ]
  },
  {
   "cell_type": "code",
   "execution_count": 243,
   "metadata": {},
   "outputs": [
    {
     "data": {
      "text/html": [
       "<div>\n",
       "<style scoped>\n",
       "    .dataframe tbody tr th:only-of-type {\n",
       "        vertical-align: middle;\n",
       "    }\n",
       "\n",
       "    .dataframe tbody tr th {\n",
       "        vertical-align: top;\n",
       "    }\n",
       "\n",
       "    .dataframe thead th {\n",
       "        text-align: right;\n",
       "    }\n",
       "</style>\n",
       "<table border=\"1\" class=\"dataframe\">\n",
       "  <thead>\n",
       "    <tr style=\"text-align: right;\">\n",
       "      <th></th>\n",
       "      <th>mean</th>\n",
       "      <th>sd</th>\n",
       "      <th>hdi_3%</th>\n",
       "      <th>hdi_97%</th>\n",
       "    </tr>\n",
       "  </thead>\n",
       "  <tbody>\n",
       "    <tr>\n",
       "      <th>alpha</th>\n",
       "      <td>-0.00</td>\n",
       "      <td>0.15</td>\n",
       "      <td>-0.29</td>\n",
       "      <td>0.28</td>\n",
       "    </tr>\n",
       "    <tr>\n",
       "      <th>betaM</th>\n",
       "      <td>-0.28</td>\n",
       "      <td>0.22</td>\n",
       "      <td>-0.71</td>\n",
       "      <td>0.13</td>\n",
       "    </tr>\n",
       "    <tr>\n",
       "      <th>en_sd</th>\n",
       "      <td>0.99</td>\n",
       "      <td>0.18</td>\n",
       "      <td>0.69</td>\n",
       "      <td>1.34</td>\n",
       "    </tr>\n",
       "  </tbody>\n",
       "</table>\n",
       "</div>"
      ],
      "text/plain": [
       "       mean    sd  hdi_3%  hdi_97%\n",
       "alpha -0.00  0.15   -0.29     0.28\n",
       "betaM -0.28  0.22   -0.71     0.13\n",
       "en_sd  0.99  0.18    0.69     1.34"
      ]
     },
     "execution_count": 243,
     "metadata": {},
     "output_type": "execute_result"
    }
   ],
   "source": [
    "az.summary(m56_trace, var_names=[\"~en_mu\"], kind=\"stats\", round_to=2)"
   ]
  },
  {
   "cell_type": "markdown",
   "metadata": {},
   "source": [
    "#### Energy vs. neocortex & mass"
   ]
  },
  {
   "cell_type": "code",
   "execution_count": 244,
   "metadata": {},
   "outputs": [],
   "source": [
    "with pm.Model() as m57:\n",
    "    # Data\n",
    "    N = pm.Data(\"N\",\n",
    "                neo_std\n",
    "               )\n",
    "    M = pm.Data(\"M\",\n",
    "                mass_std\n",
    "               )\n",
    "    \n",
    "    # Priors\n",
    "    alpha = pm.Normal(\"alpha\",\n",
    "                      mu=0,\n",
    "                      sd=0.2\n",
    "                     )\n",
    "    betaN = pm.Normal(\"betaN\",\n",
    "                      mu=0,\n",
    "                      sd=0.5\n",
    "                     )\n",
    "    betaM = pm.Normal(\"betaM\",\n",
    "                      mu=0,\n",
    "                      sd=0.5\n",
    "                     )\n",
    "    en_mu = pm.Deterministic(\"en_mu\",\n",
    "                             var=alpha + betaN*N + betaM*M\n",
    "                            )\n",
    "    en_sd = pm.Exponential(\"en_sd\",\n",
    "                           lam=1\n",
    "                          )\n",
    "    # Likelihood\n",
    "    en = pm.Normal(\"en\",\n",
    "                   mu=en_mu,\n",
    "                   sd=en_sd,\n",
    "                   observed=energy_std\n",
    "                  )"
   ]
  },
  {
   "cell_type": "code",
   "execution_count": 245,
   "metadata": {},
   "outputs": [
    {
     "name": "stderr",
     "output_type": "stream",
     "text": [
      "Auto-assigning NUTS sampler...\n",
      "Initializing NUTS using jitter+adapt_diag...\n",
      "Multiprocess sampling (4 chains in 4 jobs)\n",
      "NUTS: [en_sd, betaM, betaN, alpha]\n"
     ]
    },
    {
     "data": {
      "text/html": [
       "\n",
       "    <div>\n",
       "        <style>\n",
       "            /* Turns off some styling */\n",
       "            progress {\n",
       "                /* gets rid of default border in Firefox and Opera. */\n",
       "                border: none;\n",
       "                /* Needs to be in here for Safari polyfill so background images work as expected. */\n",
       "                background-size: auto;\n",
       "            }\n",
       "            .progress-bar-interrupted, .progress-bar-interrupted::-webkit-progress-bar {\n",
       "                background: #F44336;\n",
       "            }\n",
       "        </style>\n",
       "      <progress value='8000' class='' max='8000' style='width:300px; height:20px; vertical-align: middle;'></progress>\n",
       "      100.00% [8000/8000 00:04<00:00 Sampling 4 chains, 0 divergences]\n",
       "    </div>\n",
       "    "
      ],
      "text/plain": [
       "<IPython.core.display.HTML object>"
      ]
     },
     "metadata": {},
     "output_type": "display_data"
    },
    {
     "name": "stderr",
     "output_type": "stream",
     "text": [
      "Sampling 4 chains for 1_000 tune and 1_000 draw iterations (4_000 + 4_000 draws total) took 15 seconds.\n"
     ]
    }
   ],
   "source": [
    "# Fit posterior\n",
    "with m57:\n",
    "    m57_trace = pm.sample(1000,\n",
    "                          return_inferencedata=True\n",
    "                         )"
   ]
  },
  {
   "cell_type": "markdown",
   "metadata": {},
   "source": [
    "#### Compare models"
   ]
  },
  {
   "cell_type": "code",
   "execution_count": 252,
   "metadata": {},
   "outputs": [
    {
     "data": {
      "text/plain": [
       "array([<AxesSubplot:title={'center':'94.0% HDI'}>], dtype=object)"
      ]
     },
     "execution_count": 252,
     "metadata": {},
     "output_type": "execute_result"
    },
    {
     "data": {
      "image/png": "[encoded data removed]",
      "text/plain": [
       "<Figure size 504x288 with 1 Axes>"
      ]
     },
     "metadata": {
      "needs_background": "light"
     },
     "output_type": "display_data"
    }
   ],
   "source": [
    "_, ax = plt.subplots(figsize=(7, 4))\n",
    "\n",
    "az.plot_forest(data=[m55_trace, m56_trace, m57_trace],\n",
    "               model_names=[\"En vs. Neo\", \"En vs. Mass\", \"En vs. Neo&Mass\"],\n",
    "               var_names=[\"betaN\", \"betaM\"],\n",
    "               combined=True,\n",
    "               ax=ax\n",
    "              )"
   ]
  },
  {
   "cell_type": "markdown",
   "metadata": {},
   "source": [
    "### Categorical variables"
   ]
  },
  {
   "cell_type": "code",
   "execution_count": 253,
   "metadata": {},
   "outputs": [],
   "source": [
    "df = pd.read_csv(\"../Data/Howell1.csv\", sep=\";\")"
   ]
  },
  {
   "cell_type": "code",
   "execution_count": 261,
   "metadata": {},
   "outputs": [],
   "source": [
    "height_obs = df[\"height\"]\n",
    "sex_ids = pd.Categorical(df[\"male\"]).codes\n",
    "num_sex = len(np.unique(sex_ids))"
   ]
  },
  {
   "cell_type": "code",
   "execution_count": 267,
   "metadata": {},
   "outputs": [],
   "source": [
    "# Define gender model\n",
    "\n",
    "with pm.Model() as m58:\n",
    "    # Priors\n",
    "    h_mu = pm.Normal(\"h_mu\",\n",
    "                     mu=178,\n",
    "                     sd=20,\n",
    "                     shape=num_sex\n",
    "                    )\n",
    "    h_sd = pm.Uniform(\"h_sd\",\n",
    "                      lower=0,\n",
    "                      upper=50\n",
    "                     )\n",
    "    # Likelihood\n",
    "    h = pm.Normal(\"h\",\n",
    "                  mu=h_mu[sex_ids],\n",
    "                  sd=h_sd,\n",
    "                  observed=height_obs\n",
    "                 )\n",
    "    \n",
    "    diff_h = pm.Deterministic(\"diff_h\",\n",
    "                              var = h_mu[0] - h_mu[1]\n",
    "                             )"
   ]
  },
  {
   "cell_type": "code",
   "execution_count": 268,
   "metadata": {},
   "outputs": [
    {
     "name": "stderr",
     "output_type": "stream",
     "text": [
      "Auto-assigning NUTS sampler...\n",
      "Initializing NUTS using jitter+adapt_diag...\n",
      "Multiprocess sampling (4 chains in 4 jobs)\n",
      "NUTS: [h_sd, h_mu]\n"
     ]
    },
    {
     "data": {
      "text/html": [
       "\n",
       "    <div>\n",
       "        <style>\n",
       "            /* Turns off some styling */\n",
       "            progress {\n",
       "                /* gets rid of default border in Firefox and Opera. */\n",
       "                border: none;\n",
       "                /* Needs to be in here for Safari polyfill so background images work as expected. */\n",
       "                background-size: auto;\n",
       "            }\n",
       "            .progress-bar-interrupted, .progress-bar-interrupted::-webkit-progress-bar {\n",
       "                background: #F44336;\n",
       "            }\n",
       "        </style>\n",
       "      <progress value='8000' class='' max='8000' style='width:300px; height:20px; vertical-align: middle;'></progress>\n",
       "      100.00% [8000/8000 00:04<00:00 Sampling 4 chains, 0 divergences]\n",
       "    </div>\n",
       "    "
      ],
      "text/plain": [
       "<IPython.core.display.HTML object>"
      ]
     },
     "metadata": {},
     "output_type": "display_data"
    },
    {
     "name": "stderr",
     "output_type": "stream",
     "text": [
      "Sampling 4 chains for 1_000 tune and 1_000 draw iterations (4_000 + 4_000 draws total) took 15 seconds.\n"
     ]
    }
   ],
   "source": [
    "# Fit posterior\n",
    "\n",
    "with m58:\n",
    "    m58_trace = pm.sample(1000,\n",
    "                          return_inferencedata=True\n",
    "                         )"
   ]
  },
  {
   "cell_type": "code",
   "execution_count": 270,
   "metadata": {},
   "outputs": [
    {
     "data": {
      "text/html": [
       "<div>\n",
       "<style scoped>\n",
       "    .dataframe tbody tr th:only-of-type {\n",
       "        vertical-align: middle;\n",
       "    }\n",
       "\n",
       "    .dataframe tbody tr th {\n",
       "        vertical-align: top;\n",
       "    }\n",
       "\n",
       "    .dataframe thead th {\n",
       "        text-align: right;\n",
       "    }\n",
       "</style>\n",
       "<table border=\"1\" class=\"dataframe\">\n",
       "  <thead>\n",
       "    <tr style=\"text-align: right;\">\n",
       "      <th></th>\n",
       "      <th>mean</th>\n",
       "      <th>sd</th>\n",
       "      <th>hdi_3%</th>\n",
       "      <th>hdi_97%</th>\n",
       "    </tr>\n",
       "  </thead>\n",
       "  <tbody>\n",
       "    <tr>\n",
       "      <th>h_mu[0]</th>\n",
       "      <td>134.88</td>\n",
       "      <td>1.61</td>\n",
       "      <td>131.97</td>\n",
       "      <td>137.96</td>\n",
       "    </tr>\n",
       "    <tr>\n",
       "      <th>h_mu[1]</th>\n",
       "      <td>142.59</td>\n",
       "      <td>1.78</td>\n",
       "      <td>139.19</td>\n",
       "      <td>145.85</td>\n",
       "    </tr>\n",
       "    <tr>\n",
       "      <th>h_sd</th>\n",
       "      <td>27.42</td>\n",
       "      <td>0.83</td>\n",
       "      <td>25.85</td>\n",
       "      <td>28.91</td>\n",
       "    </tr>\n",
       "    <tr>\n",
       "      <th>diff_h</th>\n",
       "      <td>-7.71</td>\n",
       "      <td>2.37</td>\n",
       "      <td>-12.20</td>\n",
       "      <td>-3.35</td>\n",
       "    </tr>\n",
       "  </tbody>\n",
       "</table>\n",
       "</div>"
      ],
      "text/plain": [
       "           mean    sd  hdi_3%  hdi_97%\n",
       "h_mu[0]  134.88  1.61  131.97   137.96\n",
       "h_mu[1]  142.59  1.78  139.19   145.85\n",
       "h_sd      27.42  0.83   25.85    28.91\n",
       "diff_h    -7.71  2.37  -12.20    -3.35"
      ]
     },
     "execution_count": 270,
     "metadata": {},
     "output_type": "execute_result"
    }
   ],
   "source": [
    "az.summary(m58_trace, var_names=[\"h_mu\", \"h_sd\", \"diff_h\"], kind=\"stats\", round_to=2)"
   ]
  }
 ],
 "metadata": {
  "kernelspec": {
   "display_name": "Python (bayes)",
   "language": "python",
   "name": "bayes"
  },
  "language_info": {
   "codemirror_mode": {
    "name": "ipython",
    "version": 3
   },
   "file_extension": ".py",
   "mimetype": "text/x-python",
   "name": "python",
   "nbconvert_exporter": "python",
   "pygments_lexer": "ipython3",
   "version": "3.8.8"
  }
 },
 "nbformat": 4,
 "nbformat_minor": 4
}
